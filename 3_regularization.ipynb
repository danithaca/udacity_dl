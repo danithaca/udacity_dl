{
 "cells": [
  {
   "cell_type": "markdown",
   "metadata": {
    "colab_type": "text",
    "id": "kR-4eNdK6lYS"
   },
   "source": [
    "Deep Learning\n",
    "=============\n",
    "\n",
    "Assignment 3\n",
    "------------\n",
    "\n",
    "Previously in `2_fullyconnected.ipynb`, you trained a logistic regression and a neural network model.\n",
    "\n",
    "The goal of this assignment is to explore regularization techniques."
   ]
  },
  {
   "cell_type": "code",
   "execution_count": 1,
   "metadata": {
    "cellView": "both",
    "colab": {
     "autoexec": {
      "startup": false,
      "wait_interval": 0.0
     }
    },
    "colab_type": "code",
    "collapsed": true,
    "id": "JLpLa8Jt7Vu4"
   },
   "outputs": [],
   "source": [
    "# These are all the modules we'll be using later. Make sure you can import them\n",
    "# before proceeding further.\n",
    "from __future__ import print_function\n",
    "import numpy as np\n",
    "import tensorflow as tf\n",
    "from six.moves import cPickle as pickle"
   ]
  },
  {
   "cell_type": "markdown",
   "metadata": {
    "colab_type": "text",
    "id": "1HrCK6e17WzV"
   },
   "source": [
    "First reload the data we generated in `1_notmnist.ipynb`."
   ]
  },
  {
   "cell_type": "code",
   "execution_count": 2,
   "metadata": {
    "cellView": "both",
    "colab": {
     "autoexec": {
      "startup": false,
      "wait_interval": 0.0
     },
     "output_extras": [
      {
       "item_id": 1.0
      }
     ]
    },
    "colab_type": "code",
    "collapsed": false,
    "executionInfo": {
     "elapsed": 11777.0,
     "status": "ok",
     "timestamp": 1.449849322348E12,
     "user": {
      "color": "",
      "displayName": "",
      "isAnonymous": false,
      "isMe": true,
      "permissionId": "",
      "photoUrl": "",
      "sessionId": "0",
      "userId": ""
     },
     "user_tz": 480.0
    },
    "id": "y3-cj1bpmuxc",
    "outputId": "e03576f1-ebbe-4838-c388-f1777bcc9873"
   },
   "outputs": [
    {
     "name": "stdout",
     "output_type": "stream",
     "text": [
      "Training set (200000, 28, 28) (200000,)\n",
      "Validation set (10000, 28, 28) (10000,)\n",
      "Test set (10000, 28, 28) (10000,)\n"
     ]
    }
   ],
   "source": [
    "pickle_file = 'data/notMNIST.pickle'\n",
    "\n",
    "with open(pickle_file, 'rb') as f:\n",
    "  save = pickle.load(f)\n",
    "  train_dataset = save['train_dataset']\n",
    "  train_labels = save['train_labels']\n",
    "  valid_dataset = save['valid_dataset']\n",
    "  valid_labels = save['valid_labels']\n",
    "  test_dataset = save['test_dataset']\n",
    "  test_labels = save['test_labels']\n",
    "  del save  # hint to help gc free up memory\n",
    "  print('Training set', train_dataset.shape, train_labels.shape)\n",
    "  print('Validation set', valid_dataset.shape, valid_labels.shape)\n",
    "  print('Test set', test_dataset.shape, test_labels.shape)"
   ]
  },
  {
   "cell_type": "markdown",
   "metadata": {
    "colab_type": "text",
    "id": "L7aHrm6nGDMB"
   },
   "source": [
    "Reformat into a shape that's more adapted to the models we're going to train:\n",
    "- data as a flat matrix,\n",
    "- labels as float 1-hot encodings."
   ]
  },
  {
   "cell_type": "code",
   "execution_count": 3,
   "metadata": {
    "cellView": "both",
    "colab": {
     "autoexec": {
      "startup": false,
      "wait_interval": 0.0
     },
     "output_extras": [
      {
       "item_id": 1.0
      }
     ]
    },
    "colab_type": "code",
    "collapsed": false,
    "executionInfo": {
     "elapsed": 11728.0,
     "status": "ok",
     "timestamp": 1.449849322356E12,
     "user": {
      "color": "",
      "displayName": "",
      "isAnonymous": false,
      "isMe": true,
      "permissionId": "",
      "photoUrl": "",
      "sessionId": "0",
      "userId": ""
     },
     "user_tz": 480.0
    },
    "id": "IRSyYiIIGIzS",
    "outputId": "3f8996ee-3574-4f44-c953-5c8a04636582"
   },
   "outputs": [
    {
     "name": "stdout",
     "output_type": "stream",
     "text": [
      "Training set (200000, 784) (200000, 10)\n",
      "Validation set (10000, 784) (10000, 10)\n",
      "Test set (10000, 784) (10000, 10)\n"
     ]
    }
   ],
   "source": [
    "image_size = 28\n",
    "num_labels = 10\n",
    "\n",
    "def reformat(dataset, labels):\n",
    "  dataset = dataset.reshape((-1, image_size * image_size)).astype(np.float32)\n",
    "  # Map 1 to [0.0, 1.0, 0.0 ...], 2 to [0.0, 0.0, 1.0 ...]\n",
    "  labels = (np.arange(num_labels) == labels[:,None]).astype(np.float32)\n",
    "  return dataset, labels\n",
    "train_dataset, train_labels = reformat(train_dataset, train_labels)\n",
    "valid_dataset, valid_labels = reformat(valid_dataset, valid_labels)\n",
    "test_dataset, test_labels = reformat(test_dataset, test_labels)\n",
    "print('Training set', train_dataset.shape, train_labels.shape)\n",
    "print('Validation set', valid_dataset.shape, valid_labels.shape)\n",
    "print('Test set', test_dataset.shape, test_labels.shape)"
   ]
  },
  {
   "cell_type": "code",
   "execution_count": 4,
   "metadata": {
    "cellView": "both",
    "colab": {
     "autoexec": {
      "startup": false,
      "wait_interval": 0.0
     }
    },
    "colab_type": "code",
    "collapsed": true,
    "id": "RajPLaL_ZW6w"
   },
   "outputs": [],
   "source": [
    "def accuracy(predictions, labels):\n",
    "  return (100.0 * np.sum(np.argmax(predictions, 1) == np.argmax(labels, 1))\n",
    "          / predictions.shape[0])"
   ]
  },
  {
   "cell_type": "markdown",
   "metadata": {
    "colab_type": "text",
    "id": "sgLbUAQ1CW-1"
   },
   "source": [
    "---\n",
    "Problem 1\n",
    "---------\n",
    "\n",
    "Introduce and tune L2 regularization for both logistic and neural network models. Remember that L2 amounts to adding a penalty on the norm of the weights to the loss. In TensorFlow, you can compute the L2 loss for a tensor `t` using `nn.l2_loss(t)`. The right amount of regularization should improve your validation / test accuracy.\n",
    "\n",
    "---"
   ]
  },
  {
   "cell_type": "code",
   "execution_count": 9,
   "metadata": {
    "collapsed": false
   },
   "outputs": [
    {
     "name": "stdout",
     "output_type": "stream",
     "text": [
      "Initialized\n",
      "Minibatch loss at step 0: 334.192810\n",
      "Minibatch accuracy: 14.1%\n",
      "Validation accuracy: 23.8%\n",
      "Minibatch loss at step 500: 0.434767\n",
      "Minibatch accuracy: 85.9%\n",
      "Validation accuracy: 84.2%\n",
      "Minibatch loss at step 1000: 0.615258\n",
      "Minibatch accuracy: 82.0%\n",
      "Validation accuracy: 83.3%\n",
      "Minibatch loss at step 1500: 0.399264\n",
      "Minibatch accuracy: 86.7%\n",
      "Validation accuracy: 83.4%\n",
      "Minibatch loss at step 2000: 0.437798\n",
      "Minibatch accuracy: 90.6%\n",
      "Validation accuracy: 83.3%\n",
      "Minibatch loss at step 2500: 0.540044\n",
      "Minibatch accuracy: 83.6%\n",
      "Validation accuracy: 83.3%\n",
      "Minibatch loss at step 3000: 0.595008\n",
      "Minibatch accuracy: 82.8%\n",
      "Validation accuracy: 83.5%\n",
      "Test accuracy: 90.4%\n"
     ]
    }
   ],
   "source": [
    "batch_size = 128\n",
    "hidden_nodes = 1024\n",
    "reg_coef = 0.01\n",
    "\n",
    "graph = tf.Graph()\n",
    "with graph.as_default():\n",
    "\n",
    "  tf_train_dataset = tf.placeholder(tf.float32, shape=(batch_size, image_size * image_size))\n",
    "  tf_train_labels = tf.placeholder(tf.float32, shape=(batch_size, num_labels))\n",
    "  tf_valid_dataset = tf.constant(valid_dataset)\n",
    "  tf_test_dataset = tf.constant(test_dataset)\n",
    "  \n",
    "  # Variables.\n",
    "    \n",
    "  # for the hidden layer\n",
    "  h_weights = tf.Variable(tf.truncated_normal([image_size * image_size, hidden_nodes]))\n",
    "  h_biases = tf.Variable(tf.zeros([hidden_nodes]))\n",
    "  # shape: (batch_size, 768) x (768, 1024) => (batch_size, 1024)\n",
    "  h_output = tf.matmul(tf_train_dataset, h_weights) + h_biases\n",
    "    \n",
    "  # do the ReLU\n",
    "  relu_output = tf.nn.relu(h_output)\n",
    "\n",
    "  # for the 2nd layer, which generates the labels\n",
    "  r_weights = tf.Variable(tf.truncated_normal([hidden_nodes, num_labels]))\n",
    "  r_biases = tf.Variable(tf.zeros([num_labels]))\n",
    "  # shape: (batch_size, 1024) x (1024, 10) => (batch_size, 10)\n",
    "  logits = tf.matmul(relu_output, r_weights) + r_biases\n",
    "    \n",
    "  loss = tf.reduce_mean(tf.nn.softmax_cross_entropy_with_logits(labels=tf_train_labels, logits=logits))\n",
    "  \n",
    "  l2_regularization = reg_coef * tf.nn.l2_loss(h_weights) + reg_coef * tf.nn.l2_loss(r_weights)\n",
    "    \n",
    "  # Optimizer.\n",
    "  #optimizer = tf.train.GradientDescentOptimizer(0.5).minimize(loss)\n",
    "  optimizer = tf.train.GradientDescentOptimizer(0.5).minimize(loss + l2_regularization)\n",
    "\n",
    "  # Predictions for the training, validation, and test data.\n",
    "  train_prediction = tf.nn.softmax(logits)\n",
    "\n",
    "  valid_prediction = tf.nn.softmax(\n",
    "        tf.matmul(\n",
    "            tf.nn.relu(tf.matmul(tf_valid_dataset, h_weights) + h_biases),\n",
    "            r_weights) + r_biases\n",
    "    )\n",
    "  test_prediction = tf.nn.softmax(\n",
    "        tf.matmul(\n",
    "            tf.nn.relu(tf.matmul(tf_test_dataset, h_weights) + h_biases),\n",
    "            r_weights) + r_biases\n",
    "    )\n",
    "\n",
    "# run it. no code change compared to the previous task\n",
    "\n",
    "num_steps = 3001\n",
    "\n",
    "with tf.Session(graph=graph) as session:\n",
    "  tf.global_variables_initializer().run()\n",
    "  print(\"Initialized\")\n",
    "  for step in range(num_steps):\n",
    "    offset = (step * batch_size) % (train_labels.shape[0] - batch_size)\n",
    "    # Generate a minibatch.\n",
    "    batch_data = train_dataset[offset:(offset + batch_size), :]\n",
    "    batch_labels = train_labels[offset:(offset + batch_size), :]\n",
    "    \n",
    "    feed_dict = {tf_train_dataset : batch_data, tf_train_labels : batch_labels}\n",
    "    \n",
    "    _, l, predictions = session.run(\n",
    "      [optimizer, loss, train_prediction], feed_dict=feed_dict)\n",
    "    \n",
    "    if (step % 500 == 0):\n",
    "      print(\"Minibatch loss at step %d: %f\" % (step, l))\n",
    "      print(\"Minibatch accuracy: %.1f%%\" % accuracy(predictions, batch_labels))\n",
    "      print(\"Validation accuracy: %.1f%%\" % accuracy(\n",
    "        valid_prediction.eval(), valid_labels))\n",
    "    \n",
    "  print(\"Test accuracy: %.1f%%\" % accuracy(test_prediction.eval(), test_labels))"
   ]
  },
  {
   "cell_type": "markdown",
   "metadata": {
    "colab_type": "text",
    "id": "na8xX2yHZzNF"
   },
   "source": [
    "---\n",
    "Problem 2\n",
    "---------\n",
    "Let's demonstrate an extreme case of overfitting. Restrict your training data to just a few batches. What happens?\n",
    "\n",
    "__Daniel's Notes__: Using small datasets and no regularization, training accuracy is 100% (overfitting), test accuracy is 72%. Using regularization, prediction accuracy is still 100%, but test accuracy is now 76.7%\n",
    "\n",
    "---"
   ]
  },
  {
   "cell_type": "code",
   "execution_count": 11,
   "metadata": {
    "collapsed": false
   },
   "outputs": [
    {
     "name": "stdout",
     "output_type": "stream",
     "text": [
      "Initialized\n",
      "Minibatch loss at step 0: 418.582825\n",
      "Minibatch accuracy: 12.5%\n",
      "Validation accuracy: 26.7%\n",
      "Minibatch loss at step 500: 0.017898\n",
      "Minibatch accuracy: 100.0%\n",
      "Validation accuracy: 67.2%\n",
      "Minibatch loss at step 1000: 0.040001\n",
      "Minibatch accuracy: 100.0%\n",
      "Validation accuracy: 69.6%\n",
      "Minibatch loss at step 1500: 0.037341\n",
      "Minibatch accuracy: 100.0%\n",
      "Validation accuracy: 69.6%\n",
      "Minibatch loss at step 2000: 0.036319\n",
      "Minibatch accuracy: 100.0%\n",
      "Validation accuracy: 69.7%\n",
      "Minibatch loss at step 2500: 0.035787\n",
      "Minibatch accuracy: 100.0%\n",
      "Validation accuracy: 69.7%\n",
      "Minibatch loss at step 3000: 0.035448\n",
      "Minibatch accuracy: 100.0%\n",
      "Validation accuracy: 69.8%\n",
      "Test accuracy: 76.7%\n"
     ]
    }
   ],
   "source": [
    "batch_size = 128\n",
    "hidden_nodes = 1024\n",
    "reg_coef = 0.01\n",
    "\n",
    "graph = tf.Graph()\n",
    "with graph.as_default():\n",
    "\n",
    "  tf_train_dataset = tf.placeholder(tf.float32, shape=(batch_size, image_size * image_size))\n",
    "  tf_train_labels = tf.placeholder(tf.float32, shape=(batch_size, num_labels))\n",
    "  tf_valid_dataset = tf.constant(valid_dataset)\n",
    "  tf_test_dataset = tf.constant(test_dataset)\n",
    "  \n",
    "  # Variables.\n",
    "    \n",
    "  # for the hidden layer\n",
    "  h_weights = tf.Variable(tf.truncated_normal([image_size * image_size, hidden_nodes]))\n",
    "  h_biases = tf.Variable(tf.zeros([hidden_nodes]))\n",
    "  # shape: (batch_size, 768) x (768, 1024) => (batch_size, 1024)\n",
    "  h_output = tf.matmul(tf_train_dataset, h_weights) + h_biases\n",
    "    \n",
    "  # do the ReLU\n",
    "  relu_output = tf.nn.relu(h_output)\n",
    "\n",
    "  # for the 2nd layer, which generates the labels\n",
    "  r_weights = tf.Variable(tf.truncated_normal([hidden_nodes, num_labels]))\n",
    "  r_biases = tf.Variable(tf.zeros([num_labels]))\n",
    "  # shape: (batch_size, 1024) x (1024, 10) => (batch_size, 10)\n",
    "  logits = tf.matmul(relu_output, r_weights) + r_biases\n",
    "    \n",
    "  loss = tf.reduce_mean(tf.nn.softmax_cross_entropy_with_logits(labels=tf_train_labels, logits=logits))\n",
    "  \n",
    "  l2_regularization = reg_coef * tf.nn.l2_loss(h_weights) + reg_coef * tf.nn.l2_loss(r_weights)\n",
    "    \n",
    "  # Optimizer.\n",
    "  #optimizer = tf.train.GradientDescentOptimizer(0.5).minimize(loss)\n",
    "  optimizer = tf.train.GradientDescentOptimizer(0.5).minimize(loss + l2_regularization)\n",
    "\n",
    "  # Predictions for the training, validation, and test data.\n",
    "  train_prediction = tf.nn.softmax(logits)\n",
    "\n",
    "  valid_prediction = tf.nn.softmax(\n",
    "        tf.matmul(\n",
    "            tf.nn.relu(tf.matmul(tf_valid_dataset, h_weights) + h_biases),\n",
    "            r_weights) + r_biases\n",
    "    )\n",
    "  test_prediction = tf.nn.softmax(\n",
    "        tf.matmul(\n",
    "            tf.nn.relu(tf.matmul(tf_test_dataset, h_weights) + h_biases),\n",
    "            r_weights) + r_biases\n",
    "    )\n",
    "\n",
    "# run it. no code change compared to the previous task\n",
    "\n",
    "num_steps = 3001\n",
    "\n",
    "with tf.Session(graph=graph) as session:\n",
    "  tf.global_variables_initializer().run()\n",
    "  print(\"Initialized\")\n",
    "  for step in range(num_steps):\n",
    "    # always use offset=0 to limit the size of datasets\n",
    "    offset = 0\n",
    "    #offset = (step * batch_size) % (train_labels.shape[0] - batch_size)\n",
    "    # Generate a minibatch.\n",
    "    batch_data = train_dataset[offset:(offset + batch_size), :]\n",
    "    batch_labels = train_labels[offset:(offset + batch_size), :]\n",
    "    \n",
    "    feed_dict = {tf_train_dataset : batch_data, tf_train_labels : batch_labels}\n",
    "    \n",
    "    _, l, predictions = session.run(\n",
    "      [optimizer, loss, train_prediction], feed_dict=feed_dict)\n",
    "    \n",
    "    if (step % 500 == 0):\n",
    "      print(\"Minibatch loss at step %d: %f\" % (step, l))\n",
    "      print(\"Minibatch accuracy: %.1f%%\" % accuracy(predictions, batch_labels))\n",
    "      print(\"Validation accuracy: %.1f%%\" % accuracy(\n",
    "        valid_prediction.eval(), valid_labels))\n",
    "    \n",
    "  print(\"Test accuracy: %.1f%%\" % accuracy(test_prediction.eval(), test_labels))"
   ]
  },
  {
   "cell_type": "markdown",
   "metadata": {
    "colab_type": "text",
    "id": "ww3SCBUdlkRc"
   },
   "source": [
    "---\n",
    "Problem 3\n",
    "---------\n",
    "Introduce Dropout on the hidden layer of the neural network. Remember: Dropout should only be introduced during training, not evaluation, otherwise your evaluation results would be stochastic as well. TensorFlow provides `nn.dropout()` for that, but you have to make sure it's only inserted during training.\n",
    "\n",
    "What happens to our extreme overfitting case?\n",
    "\n",
    "__Daniel's Notes__:\n",
    "* Don't use dropout on training data => that would throw away lots of useful data.\n",
    "* Use dropout on hidden layers => increase test accuracy to 77.4% (w/ regularization on extreme overfitting case), although prediction accuracy is still 100% (overfitting)\n",
    "\n",
    "---"
   ]
  },
  {
   "cell_type": "code",
   "execution_count": 15,
   "metadata": {
    "collapsed": false
   },
   "outputs": [
    {
     "name": "stdout",
     "output_type": "stream",
     "text": [
      "Initialized\n",
      "Minibatch loss at step 0: 543.560913\n",
      "Minibatch accuracy: 11.7%\n",
      "Validation accuracy: 26.8%\n",
      "Minibatch loss at step 500: 0.013815\n",
      "Minibatch accuracy: 100.0%\n",
      "Validation accuracy: 68.4%\n",
      "Minibatch loss at step 1000: 0.045080\n",
      "Minibatch accuracy: 100.0%\n",
      "Validation accuracy: 69.6%\n",
      "Minibatch loss at step 1500: 0.040294\n",
      "Minibatch accuracy: 100.0%\n",
      "Validation accuracy: 69.7%\n",
      "Minibatch loss at step 2000: 0.039165\n",
      "Minibatch accuracy: 100.0%\n",
      "Validation accuracy: 69.8%\n",
      "Minibatch loss at step 2500: 0.040861\n",
      "Minibatch accuracy: 100.0%\n",
      "Validation accuracy: 69.9%\n",
      "Minibatch loss at step 3000: 0.039438\n",
      "Minibatch accuracy: 100.0%\n",
      "Validation accuracy: 70.3%\n",
      "Test accuracy: 77.4%\n"
     ]
    }
   ],
   "source": [
    "batch_size = 128\n",
    "hidden_nodes = 1024\n",
    "reg_coef = 0.01\n",
    "dropout_keep = 0.5\n",
    "\n",
    "graph = tf.Graph()\n",
    "with graph.as_default():\n",
    "\n",
    "  tf_train_dataset = tf.placeholder(tf.float32, shape=(batch_size, image_size * image_size))\n",
    "  tf_train_labels = tf.placeholder(tf.float32, shape=(batch_size, num_labels))\n",
    "  tf_valid_dataset = tf.constant(valid_dataset)\n",
    "  tf_test_dataset = tf.constant(test_dataset)\n",
    "  \n",
    "  # Variables.\n",
    "    \n",
    "  # for the hidden layer\n",
    "  h_weights = tf.Variable(tf.truncated_normal([image_size * image_size, hidden_nodes]))\n",
    "  h_biases = tf.Variable(tf.zeros([hidden_nodes]))\n",
    "  # shape: (batch_size, 768) x (768, 1024) => (batch_size, 1024)\n",
    "  h_output = tf.matmul(tf_train_dataset, h_weights) + h_biases\n",
    "    \n",
    "  # do the ReLU\n",
    "  relu_output = tf.nn.relu(h_output)\n",
    "\n",
    "  # for the 2nd layer, which generates the labels\n",
    "  r_weights = tf.Variable(tf.truncated_normal([hidden_nodes, num_labels]))\n",
    "  r_biases = tf.Variable(tf.zeros([num_labels]))\n",
    "  # shape: (batch_size, 1024) x (1024, 10) => (batch_size, 10)\n",
    "  logits = tf.matmul(tf.nn.dropout(relu_output, dropout_keep), r_weights) + r_biases\n",
    "    \n",
    "  loss = tf.reduce_mean(tf.nn.softmax_cross_entropy_with_logits(labels=tf_train_labels, logits=logits))\n",
    "  \n",
    "  l2_regularization = reg_coef * tf.nn.l2_loss(h_weights) + reg_coef * tf.nn.l2_loss(r_weights)\n",
    "    \n",
    "  # Optimizer.\n",
    "  #optimizer = tf.train.GradientDescentOptimizer(0.5).minimize(loss)\n",
    "  optimizer = tf.train.GradientDescentOptimizer(0.5).minimize(loss + l2_regularization)\n",
    "\n",
    "  # Predictions for the training, validation, and test data.\n",
    "  train_prediction = tf.nn.softmax(logits)\n",
    "\n",
    "  valid_prediction = tf.nn.softmax(\n",
    "        tf.matmul(\n",
    "            tf.nn.relu(tf.matmul(tf_valid_dataset, h_weights) + h_biases),\n",
    "            r_weights) + r_biases\n",
    "    )\n",
    "  test_prediction = tf.nn.softmax(\n",
    "        tf.matmul(\n",
    "            tf.nn.relu(tf.matmul(tf_test_dataset, h_weights) + h_biases),\n",
    "            r_weights) + r_biases\n",
    "    )\n",
    "\n",
    "# run it. no code change compared to the previous task\n",
    "\n",
    "num_steps = 3001\n",
    "\n",
    "with tf.Session(graph=graph) as session:\n",
    "  tf.global_variables_initializer().run()\n",
    "  print(\"Initialized\")\n",
    "  for step in range(num_steps):\n",
    "    # always use offset=0 to limit the size of datasets\n",
    "    offset = 0\n",
    "    #offset = (step * batch_size) % (train_labels.shape[0] - batch_size)\n",
    "    # Generate a minibatch.\n",
    "    batch_data = train_dataset[offset:(offset + batch_size), :]\n",
    "    batch_labels = train_labels[offset:(offset + batch_size), :]\n",
    "    \n",
    "    feed_dict = {tf_train_dataset : batch_data, tf_train_labels : batch_labels}\n",
    "    \n",
    "    _, l, predictions = session.run(\n",
    "      [optimizer, loss, train_prediction], feed_dict=feed_dict)\n",
    "    \n",
    "    if (step % 500 == 0):\n",
    "      print(\"Minibatch loss at step %d: %f\" % (step, l))\n",
    "      print(\"Minibatch accuracy: %.1f%%\" % accuracy(predictions, batch_labels))\n",
    "      print(\"Validation accuracy: %.1f%%\" % accuracy(\n",
    "        valid_prediction.eval(), valid_labels))\n",
    "    \n",
    "  print(\"Test accuracy: %.1f%%\" % accuracy(test_prediction.eval(), test_labels))"
   ]
  },
  {
   "cell_type": "markdown",
   "metadata": {
    "colab_type": "text",
    "id": "-b1hTz3VWZjw"
   },
   "source": [
    "---\n",
    "Problem 4\n",
    "---------\n",
    "\n",
    "Try to get the best performance you can using a multi-layer model! The best reported test accuracy using a deep network is [97.1%](http://yaroslavvb.blogspot.com/2011/09/notmnist-dataset.html?showComment=1391023266211#c8758720086795711595).\n",
    "\n",
    "One avenue you can explore is to add multiple layers.\n",
    "\n",
    "Another one is to use learning rate decay:\n",
    "\n",
    "    global_step = tf.Variable(0)  # count the number of steps taken.\n",
    "    learning_rate = tf.train.exponential_decay(0.5, global_step, ...)\n",
    "    optimizer = tf.train.GradientDescentOptimizer(learning_rate).minimize(loss, global_step=global_step)\n",
    " \n",
    "__Daniel's Notes__:\n",
    "* We can indeed wrap reusable code in a single function\n",
    "* Seems that adding an extra layer will make gradient to unstable: http://stackoverflow.com/questions/36565430/adding-multiple-layers-to-tensorflow-causes-loss-function-to-become-nan\n",
    "  - Reduce learning rate from 0.5 to 0.01 helps a lot. with learning_rate=0.5, loss actually increases exponentially to NaN.\n",
    "  - Could try Xavier initialization: https://www.tensorflow.org/versions/r0.11/api_docs/python/contrib.layers/initializers#xavier_initializer\n",
    "  - Could try learning rate decay. But since we already use small learning_rate, it might not be very useful\n",
    "* Useful resource: http://www.ritchieng.com/machine-learning/deep-learning/tensorflow/regularization/\n",
    "  - 5 hidden layers, 50% less for each layer\n",
    "  - overfitting prevention: l2 regularization, dropout\n",
    "  - test accuracy: 93.4%\n",
    "* Adding an extra layer but not training enough does not help too much. It might be enough just to use 1 layer.\n",
    "* More optimization would be left to HPO\n",
    " \n",
    " ---\n"
   ]
  },
  {
   "cell_type": "code",
   "execution_count": 19,
   "metadata": {
    "collapsed": false
   },
   "outputs": [
    {
     "name": "stdout",
     "output_type": "stream",
     "text": [
      "Initialized\n",
      "Minibatch loss at step 0: 3218.383789\n",
      "Minibatch accuracy: 16.4%\n",
      "Validation accuracy: 22.9%\n",
      "Minibatch loss at step 500: 17.897339\n",
      "Minibatch accuracy: 68.0%\n",
      "Validation accuracy: 66.2%\n",
      "Minibatch loss at step 1000: 7.088058\n",
      "Minibatch accuracy: 61.7%\n",
      "Validation accuracy: 58.5%\n",
      "Minibatch loss at step 1500: 2.758253\n",
      "Minibatch accuracy: 59.4%\n",
      "Validation accuracy: 54.8%\n",
      "Minibatch loss at step 2000: 1.780552\n",
      "Minibatch accuracy: 64.8%\n",
      "Validation accuracy: 59.1%\n",
      "Minibatch loss at step 2500: 2.161883\n",
      "Minibatch accuracy: 55.5%\n",
      "Validation accuracy: 60.8%\n",
      "Minibatch loss at step 3000: 1.617876\n",
      "Minibatch accuracy: 61.7%\n",
      "Validation accuracy: 62.9%\n",
      "Minibatch loss at step 3500: 1.236932\n",
      "Minibatch accuracy: 64.1%\n",
      "Validation accuracy: 65.1%\n",
      "Minibatch loss at step 4000: 1.185094\n",
      "Minibatch accuracy: 70.3%\n",
      "Validation accuracy: 67.2%\n",
      "Minibatch loss at step 4500: 0.990069\n",
      "Minibatch accuracy: 68.0%\n",
      "Validation accuracy: 67.9%\n",
      "Minibatch loss at step 5000: 0.856811\n",
      "Minibatch accuracy: 69.5%\n",
      "Validation accuracy: 69.7%\n",
      "Minibatch loss at step 5500: 1.011955\n",
      "Minibatch accuracy: 64.8%\n",
      "Validation accuracy: 70.9%\n",
      "Minibatch loss at step 6000: 0.929603\n",
      "Minibatch accuracy: 71.1%\n",
      "Validation accuracy: 70.3%\n",
      "Minibatch loss at step 6500: 0.809821\n",
      "Minibatch accuracy: 74.2%\n",
      "Validation accuracy: 73.7%\n",
      "Minibatch loss at step 7000: 0.905222\n",
      "Minibatch accuracy: 72.7%\n",
      "Validation accuracy: 74.6%\n",
      "Minibatch loss at step 7500: 0.910603\n",
      "Minibatch accuracy: 76.6%\n",
      "Validation accuracy: 75.5%\n",
      "Minibatch loss at step 8000: 0.970451\n",
      "Minibatch accuracy: 70.3%\n",
      "Validation accuracy: 76.1%\n",
      "Minibatch loss at step 8500: 0.581651\n",
      "Minibatch accuracy: 78.9%\n",
      "Validation accuracy: 76.7%\n",
      "Minibatch loss at step 9000: 0.905837\n",
      "Minibatch accuracy: 74.2%\n",
      "Validation accuracy: 76.4%\n",
      "Minibatch loss at step 9500: 0.693609\n",
      "Minibatch accuracy: 79.7%\n",
      "Validation accuracy: 77.8%\n",
      "Minibatch loss at step 10000: 0.701041\n",
      "Minibatch accuracy: 78.1%\n",
      "Validation accuracy: 78.4%\n",
      "Minibatch loss at step 10500: 0.642133\n",
      "Minibatch accuracy: 77.3%\n",
      "Validation accuracy: 78.8%\n",
      "Minibatch loss at step 11000: 0.657310\n",
      "Minibatch accuracy: 85.9%\n",
      "Validation accuracy: 79.1%\n",
      "Minibatch loss at step 11500: 0.716029\n",
      "Minibatch accuracy: 79.7%\n",
      "Validation accuracy: 79.7%\n",
      "Minibatch loss at step 12000: 0.873885\n",
      "Minibatch accuracy: 73.4%\n",
      "Validation accuracy: 80.1%\n",
      "Minibatch loss at step 12500: 0.527487\n",
      "Minibatch accuracy: 81.2%\n",
      "Validation accuracy: 80.3%\n",
      "Minibatch loss at step 13000: 0.574021\n",
      "Minibatch accuracy: 79.7%\n",
      "Validation accuracy: 80.6%\n",
      "Minibatch loss at step 13500: 0.800397\n",
      "Minibatch accuracy: 78.1%\n",
      "Validation accuracy: 80.8%\n",
      "Minibatch loss at step 14000: 0.563507\n",
      "Minibatch accuracy: 81.2%\n",
      "Validation accuracy: 81.3%\n",
      "Minibatch loss at step 14500: 0.715242\n",
      "Minibatch accuracy: 81.2%\n",
      "Validation accuracy: 81.4%\n",
      "Minibatch loss at step 15000: 0.649214\n",
      "Minibatch accuracy: 82.0%\n",
      "Validation accuracy: 81.7%\n",
      "Test accuracy: 89.2%\n"
     ]
    }
   ],
   "source": [
    "batch_size = 128\n",
    "hidden_nodes = [1024, 256]\n",
    "reg_coef = 0.01\n",
    "dropout_keep = 0.5\n",
    "learning_rate = 0.01\n",
    "\n",
    "graph = tf.Graph()\n",
    "with graph.as_default():\n",
    "\n",
    "  tf_train_dataset = tf.placeholder(tf.float32, shape=(batch_size, image_size * image_size))\n",
    "  tf_train_labels = tf.placeholder(tf.float32, shape=(batch_size, num_labels))\n",
    "  tf_valid_dataset = tf.constant(valid_dataset)\n",
    "  tf_test_dataset = tf.constant(test_dataset)\n",
    "\n",
    "  # for the hidden layer\n",
    "  weights_1 = tf.Variable(tf.truncated_normal([image_size * image_size, hidden_nodes[0]]))\n",
    "  biases_1 = tf.Variable(tf.zeros([hidden_nodes[0]]))\n",
    "  weights_2 = tf.Variable(tf.truncated_normal([hidden_nodes[0], hidden_nodes[1]]))\n",
    "  biases_2 = tf.Variable(tf.zeros([hidden_nodes[1]]))\n",
    "  r_weights = tf.Variable(tf.truncated_normal([hidden_nodes[1], num_labels]))\n",
    "  r_biases = tf.Variable(tf.zeros([num_labels]))\n",
    "\n",
    "  # verify that each new local variable here uses a different \"variable\" name in tf.\n",
    "  def get_nn(dataset, dropout=False):\n",
    "    output_1 = tf.matmul(dataset, weights_1) + biases_1\n",
    "    output_1_relu = tf.nn.relu(output_1)\n",
    "    if dropout:\n",
    "      output_1_final = tf.nn.dropout(output_1_relu, dropout_keep)\n",
    "    else:\n",
    "      output_1_final = output_1_relu\n",
    "    output_2 = tf.matmul(output_1_final, weights_2) + biases_2\n",
    "    output_2_relu = tf.nn.relu(output_2)\n",
    "    if dropout:\n",
    "      output_2_final = tf.nn.dropout(output_2_relu, dropout_keep)\n",
    "    else:\n",
    "      output_2_final = output_2_relu\n",
    "    return tf.matmul(output_2_final, r_weights) + r_biases\n",
    "\n",
    "  logits = get_nn(tf_train_dataset, dropout=False)\n",
    "  loss = tf.reduce_mean(tf.nn.softmax_cross_entropy_with_logits(labels=tf_train_labels, logits=logits))\n",
    "  l2_regularization = reg_coef * (tf.nn.l2_loss(weights_1) + tf.nn.l2_loss(weights_2) + tf.nn.l2_loss(r_weights))\n",
    "\n",
    "  #optimizer = tf.train.GradientDescentOptimizer(0.5).minimize(loss)\n",
    "  optimizer = tf.train.GradientDescentOptimizer(learning_rate).minimize(loss + l2_regularization)\n",
    "\n",
    "  # Predictions for the training, validation, and test data.\n",
    "  train_prediction = tf.nn.softmax(logits)\n",
    "\n",
    "  valid_prediction = tf.nn.softmax(get_nn(tf_valid_dataset))\n",
    "  test_prediction = tf.nn.softmax(get_nn(tf_test_dataset))\n",
    "\n",
    "# run it. no code change compared to the previous task\n",
    "\n",
    "num_steps = 15001\n",
    "\n",
    "with tf.Session(graph=graph) as session:\n",
    "  tf.global_variables_initializer().run()\n",
    "  print(\"Initialized\")\n",
    "  for step in range(num_steps):\n",
    "    offset = (step * batch_size) % (train_labels.shape[0] - batch_size)\n",
    "    # Generate a minibatch.\n",
    "    batch_data = train_dataset[offset:(offset + batch_size), :]\n",
    "    batch_labels = train_labels[offset:(offset + batch_size), :]\n",
    "\n",
    "    feed_dict = {tf_train_dataset : batch_data, tf_train_labels : batch_labels}\n",
    "\n",
    "    _, l, predictions = session.run(\n",
    "      [optimizer, loss, train_prediction], feed_dict=feed_dict)\n",
    "\n",
    "    if (step % 500 == 0):\n",
    "      print(\"Minibatch loss at step %d: %f\" % (step, l))\n",
    "      print(\"Minibatch accuracy: %.1f%%\" % accuracy(predictions, batch_labels))\n",
    "      print(\"Validation accuracy: %.1f%%\" % accuracy(valid_prediction.eval(), valid_labels))\n",
    "\n",
    "  print(\"Test accuracy: %.1f%%\" % accuracy(test_prediction.eval(), test_labels))"
   ]
  },
  {
   "cell_type": "code",
   "execution_count": null,
   "metadata": {
    "collapsed": true
   },
   "outputs": [],
   "source": [
    ""
   ]
  }
 ],
 "metadata": {
  "anaconda-cloud": {},
  "colab": {
   "default_view": {},
   "name": "3_regularization.ipynb",
   "provenance": [],
   "version": "0.3.2",
   "views": {}
  },
  "kernelspec": {
   "display_name": "Python [default]",
   "language": "python",
   "name": "python3"
  },
  "language_info": {
   "codemirror_mode": {
    "name": "ipython",
    "version": 3.0
   },
   "file_extension": ".py",
   "mimetype": "text/x-python",
   "name": "python",
   "nbconvert_exporter": "python",
   "pygments_lexer": "ipython3",
   "version": "3.5.2"
  }
 },
 "nbformat": 4,
 "nbformat_minor": 0
}